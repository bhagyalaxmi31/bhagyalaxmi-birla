{
  "nbformat": 4,
  "nbformat_minor": 0,
  "metadata": {
    "colab": {
      "provenance": []
    },
    "kernelspec": {
      "name": "python3",
      "display_name": "Python 3"
    },
    "language_info": {
      "name": "python"
    }
  },
  "cells": [
    {
      "cell_type": "code",
      "source": [
        "import random\n",
        "\n",
        "num1 = random.randint(1, 10)\n",
        "num2 = random.randint(1, 10)\n",
        "print(f\"What is the product of {num1} and {num2}?\")\n",
        "user_answer = int(input(\"Your answer: \"))\n",
        "if user_answer == num1 * num2:\n",
        "    print(\"Correct!\")\n",
        "else:\n",
        "    print(f\"Wrong. The correct answer is {num1 * num2}.\")\n"
      ],
      "metadata": {
        "colab": {
          "base_uri": "https://localhost:8080/"
        },
        "id": "RsD236NDP1JT",
        "outputId": "56da1569-246a-4172-8eae-eb39ac90aea9"
      },
      "execution_count": null,
      "outputs": [
        {
          "output_type": "stream",
          "name": "stdout",
          "text": [
            "What is the product of 9 and 5?\n",
            "Your answer: 45\n",
            "Correct!\n"
          ]
        }
      ]
    },
    {
      "cell_type": "code",
      "source": [
        "def is_prime(n):\n",
        "    if n <= 1:\n",
        "        return False\n",
        "    for i in range(2, int(n ** 0.5) + 1):\n",
        "        if n % i == 0:\n",
        "            return False\n",
        "    return True\n",
        "\n",
        "num = int(input(\"Enter a number: \"))\n",
        "if is_prime(num):\n",
        "    print(f\"{num} is a prime number.\")\n",
        "else:\n",
        "    print(f\"{num} is not a prime number.\")\n"
      ],
      "metadata": {
        "colab": {
          "base_uri": "https://localhost:8080/"
        },
        "id": "A0EuBiXfP82e",
        "outputId": "7c4d9dea-9bb9-485d-f9d6-3726eeaf05a4"
      },
      "execution_count": null,
      "outputs": [
        {
          "output_type": "stream",
          "name": "stdout",
          "text": [
            "Enter a number: 13\n",
            "13 is a prime number.\n"
          ]
        }
      ]
    },
    {
      "cell_type": "code",
      "source": [
        "for num in range(100, 201):\n",
        "    if num % 2 == 0:\n",
        "        print(f\"{num} squared is {num ** 2}\")\n"
      ],
      "metadata": {
        "colab": {
          "base_uri": "https://localhost:8080/"
        },
        "id": "ju95P-nTQKjQ",
        "outputId": "a4e90006-6678-4231-920d-be4a7e961b75"
      },
      "execution_count": null,
      "outputs": [
        {
          "output_type": "stream",
          "name": "stdout",
          "text": [
            "100 squared is 10000\n",
            "102 squared is 10404\n",
            "104 squared is 10816\n",
            "106 squared is 11236\n",
            "108 squared is 11664\n",
            "110 squared is 12100\n",
            "112 squared is 12544\n",
            "114 squared is 12996\n",
            "116 squared is 13456\n",
            "118 squared is 13924\n",
            "120 squared is 14400\n",
            "122 squared is 14884\n",
            "124 squared is 15376\n",
            "126 squared is 15876\n",
            "128 squared is 16384\n",
            "130 squared is 16900\n",
            "132 squared is 17424\n",
            "134 squared is 17956\n",
            "136 squared is 18496\n",
            "138 squared is 19044\n",
            "140 squared is 19600\n",
            "142 squared is 20164\n",
            "144 squared is 20736\n",
            "146 squared is 21316\n",
            "148 squared is 21904\n",
            "150 squared is 22500\n",
            "152 squared is 23104\n",
            "154 squared is 23716\n",
            "156 squared is 24336\n",
            "158 squared is 24964\n",
            "160 squared is 25600\n",
            "162 squared is 26244\n",
            "164 squared is 26896\n",
            "166 squared is 27556\n",
            "168 squared is 28224\n",
            "170 squared is 28900\n",
            "172 squared is 29584\n",
            "174 squared is 30276\n",
            "176 squared is 30976\n",
            "178 squared is 31684\n",
            "180 squared is 32400\n",
            "182 squared is 33124\n",
            "184 squared is 33856\n",
            "186 squared is 34596\n",
            "188 squared is 35344\n",
            "190 squared is 36100\n",
            "192 squared is 36864\n",
            "194 squared is 37636\n",
            "196 squared is 38416\n",
            "198 squared is 39204\n",
            "200 squared is 40000\n"
          ]
        }
      ]
    },
    {
      "cell_type": "code",
      "source": [
        "input_text = \"This is a sample text. This text will be used to demonstrate the word counter.\"\n",
        "word_counts = {}\n",
        "for word in input_text.split():\n",
        "    word = word.strip(\".,!?\").lower()\n",
        "    word_counts[word] = word_counts.get(word, 0) + 1\n",
        "\n",
        "for word, count in word_counts.items():\n",
        "    print(f\"'{word}': {count}\")\n"
      ],
      "metadata": {
        "colab": {
          "base_uri": "https://localhost:8080/"
        },
        "id": "vhEmX02HQRar",
        "outputId": "b3ed24cd-3789-4494-a86e-b1e37e1adb41"
      },
      "execution_count": null,
      "outputs": [
        {
          "output_type": "stream",
          "name": "stdout",
          "text": [
            "'this': 2\n",
            "'is': 1\n",
            "'a': 1\n",
            "'sample': 1\n",
            "'text': 2\n",
            "'will': 1\n",
            "'be': 1\n",
            "'used': 1\n",
            "'to': 1\n",
            "'demonstrate': 1\n",
            "'the': 1\n",
            "'word': 1\n",
            "'counter': 1\n"
          ]
        }
      ]
    },
    {
      "cell_type": "code",
      "source": [
        "def is_prime(n):\n",
        "    if n <= 1:\n",
        "        return False\n",
        "    for i in range(2, int(n ** 0.5) + 1):\n",
        "        if n % i == 0:\n",
        "            return False\n",
        "    return True\n",
        "\n",
        "num = int(input(\"Enter a number: \"))\n",
        "if is_prime(num):\n",
        "    print(f\"{num} is a prime number.\")\n",
        "else:\n",
        "    print(f\"{num} is not a prime number.\")"
      ],
      "metadata": {
        "colab": {
          "base_uri": "https://localhost:8080/"
        },
        "id": "at34nHRJREdp",
        "outputId": "52201597-71fb-4da5-df18-0ad73c40510e"
      },
      "execution_count": null,
      "outputs": [
        {
          "output_type": "stream",
          "name": "stdout",
          "text": [
            "Enter a number: 13\n",
            "13 is a prime number.\n"
          ]
        }
      ]
    }
  ]
}